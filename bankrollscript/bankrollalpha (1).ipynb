{
 "cells": [
  {
   "cell_type": "markdown",
   "metadata": {},
   "source": [
    "# Bankroll Management: 4 buy-ins, 25% risked every time"
   ]
  },
  {
   "cell_type": "code",
   "execution_count": null,
   "metadata": {},
   "outputs": [],
   "source": [
    "import numpy as np\n",
    "import matplotlib.pyplot as plt\n",
    "import pandas as pd\n",
    "import random\n",
    "# Start with 4 buy-ins.\n",
    "# Each round, AA vs KK; 80:20 favourite\n",
    "# Strategy: 1/4 of our bankroll every time. \n",
    "# Monte Carlo"
   ]
  },
  {
   "cell_type": "code",
   "execution_count": null,
   "metadata": {},
   "outputs": [],
   "source": [
    "bankroll = 400\n",
    "stack_percentage = 0.25\n",
    "counter = 0\n",
    "limit = 1000\n",
    "print(bankroll,counter)"
   ]
  },
  {
   "cell_type": "code",
   "execution_count": null,
   "metadata": {},
   "outputs": [],
   "source": [
    "while bankroll > 0:\n",
    "    while counter != limit:\n",
    "        counter += 1\n",
    "    \n",
    "        # Gamble with stack\n",
    "        stack = bankroll*stack_percentage\n",
    "        bankroll -= stack\n",
    "        random_float = random.random()\n",
    "        if random_float > 0.4:\n",
    "            stack *=2\n",
    "        else: \n",
    "            stack == 0\n",
    "        \n",
    "        bankroll += stack\n",
    "        print(counter,bankroll)"
   ]
  },
  {
   "cell_type": "markdown",
   "metadata": {},
   "source": [
    "## How to implement as MCMC here?\n",
    "Options:\n",
    "* maybe see CATAM?\n",
    "* towardsdatascience article\n",
    "* just bash it out"
   ]
  }
 ],
 "metadata": {
  "kernelspec": {
   "display_name": "Python 3",
   "language": "python",
   "name": "python3"
  },
  "language_info": {
   "codemirror_mode": {
    "name": "ipython",
    "version": 3
   },
   "file_extension": ".py",
   "mimetype": "text/x-python",
   "name": "python",
   "nbconvert_exporter": "python",
   "pygments_lexer": "ipython3",
   "version": "3.8.5"
  }
 },
 "nbformat": 4,
 "nbformat_minor": 5
}
