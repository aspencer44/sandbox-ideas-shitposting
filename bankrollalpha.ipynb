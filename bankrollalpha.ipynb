{
 "cells": [
  {
   "cell_type": "markdown",
   "id": "a97baae9-2607-4aaf-be12-f18cc0549135",
   "metadata": {},
   "source": [
    "# Bankroll Management: 4 buy-ins, 25% risked every time"
   ]
  },
  {
   "cell_type": "code",
   "execution_count": 4,
   "id": "89e8da24-5ba6-4162-9509-38cb1b397e44",
   "metadata": {},
   "outputs": [],
   "source": [
    "import numpy as np\n",
    "import matplotlib.pyplot as plt\n",
    "import pandas as pd\n",
    "import random\n",
    "# Start with 4 buy-ins.\n",
    "# Each round, AA vs KK; 80:20 favourite\n",
    "# Strategy: 1/4 of our bankroll every time. \n",
    "# Monte Carlo"
   ]
  },
  {
   "cell_type": "code",
   "execution_count": 5,
   "id": "e15bc6e7-c200-4481-8f65-39c9968d9a5a",
   "metadata": {},
   "outputs": [],
   "source": [
    "bankroll = 400\n",
    "stack_percentage = 0.25\n",
    "counter = 0\n",
    "\n",
    "while bankroll > 0:\n",
    "    counter += 1\n",
    "    \n",
    "    # Gamble with stack\n",
    "    stack = bankroll*stack_percentage\n",
    "    bankroll -= stack\n",
    "    random_float = random.random()\n",
    "    if random_float > 0.2:\n",
    "        stack *=2\n",
    "    else: \n",
    "        stack == 0\n",
    "        \n",
    "    bankroll += stack"
   ]
  },
  {
   "cell_type": "markdown",
   "id": "bc8b1e9b-861b-40c9-96f9-a75ce7571eb5",
   "metadata": {},
   "source": [
    "## How to implement as MCMC here?\n",
    "Options:\n",
    "* maybe see CATAM?\n",
    "* towardsdatascience article\n",
    "* just bash it out"
   ]
  }
 ],
 "metadata": {
  "kernelspec": {
   "display_name": "Python 3 (ipykernel)",
   "language": "python",
   "name": "python3"
  },
  "language_info": {
   "codemirror_mode": {
    "name": "ipython",
    "version": 3
   },
   "file_extension": ".py",
   "mimetype": "text/x-python",
   "name": "python",
   "nbconvert_exporter": "python",
   "pygments_lexer": "ipython3",
   "version": "3.8.12"
  }
 },
 "nbformat": 4,
 "nbformat_minor": 5
}
